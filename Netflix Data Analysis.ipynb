{
 "cells": [
  {
   "cell_type": "markdown",
   "id": "36998c7e",
   "metadata": {},
   "source": [
    "# Netflix Content and Viewership Analysis\n",
    "\n",
    "## 1. Introduction\n",
    "This notebook analyzes Netflix's content production trends, viewership patterns, and demographic influences across different time periods and regions. We'll explore the balance between movies and TV shows, genre popularity, and viewership demographics."
   ]
  },
  {
   "cell_type": "markdown",
   "id": "904362d8",
   "metadata": {},
   "source": [
    "## 2. Data Loading and Preprocessing\n",
    "We'll load two datasets: Netflix content data and viewership data. These datasets will be merged to provide a comprehensive view of content and its associated viewership statistics."
   ]
  },
  {
   "cell_type": "code",
   "execution_count": 2,
   "id": "c0503174",
   "metadata": {},
   "outputs": [
    {
     "name": "stdout",
     "output_type": "stream",
     "text": [
      "Requirement already satisfied: plotly in c:\\users\\saumya\\appdata\\local\\programs\\python\\python310\\lib\\site-packages (5.20.0)\n",
      "Requirement already satisfied: pandas in c:\\users\\saumya\\appdata\\local\\programs\\python\\python310\\lib\\site-packages (1.5.3)\n",
      "Requirement already satisfied: tenacity>=6.2.0 in c:\\users\\saumya\\appdata\\local\\programs\\python\\python310\\lib\\site-packages (from plotly) (8.2.3)\n",
      "Requirement already satisfied: packaging in c:\\users\\saumya\\appdata\\local\\programs\\python\\python310\\lib\\site-packages (from plotly) (23.2)\n",
      "Requirement already satisfied: python-dateutil>=2.8.1 in c:\\users\\saumya\\appdata\\local\\programs\\python\\python310\\lib\\site-packages (from pandas) (2.8.2)\n",
      "Requirement already satisfied: pytz>=2020.1 in c:\\users\\saumya\\appdata\\local\\programs\\python\\python310\\lib\\site-packages (from pandas) (2021.3)\n",
      "Requirement already satisfied: numpy>=1.21.0 in c:\\users\\saumya\\appdata\\local\\programs\\python\\python310\\lib\\site-packages (from pandas) (1.23.5)\n",
      "Requirement already satisfied: six>=1.5 in c:\\users\\saumya\\appdata\\local\\programs\\python\\python310\\lib\\site-packages (from python-dateutil>=2.8.1->pandas) (1.16.0)\n",
      "\n",
      "We've installed the necessary libraries.\n"
     ]
    },
    {
     "name": "stderr",
     "output_type": "stream",
     "text": [
      "WARNING: Ignoring invalid distribution -treamlit (c:\\users\\saumya\\appdata\\local\\programs\\python\\python310\\lib\\site-packages)\n",
      "WARNING: Ignoring invalid distribution -treamlit (c:\\users\\saumya\\appdata\\local\\programs\\python\\python310\\lib\\site-packages)\n",
      "WARNING: Ignoring invalid distribution -treamlit (c:\\users\\saumya\\appdata\\local\\programs\\python\\python310\\lib\\site-packages)\n"
     ]
    }
   ],
   "source": [
    "!pip install plotly pandas\n",
    "\n",
    "print(\"\\nWe've installed the necessary libraries.\")"
   ]
  },
  {
   "cell_type": "code",
   "execution_count": 3,
   "id": "f45e4700",
   "metadata": {},
   "outputs": [
    {
     "name": "stdout",
     "output_type": "stream",
     "text": [
      "\n",
      "We have now imported those libraries so we can:\n",
      " - Use pandas for data manipulation\n",
      " - Create interactive plots with plotly and statistical data visualization\n",
      "\n"
     ]
    }
   ],
   "source": [
    "import pandas as pd\n",
    "import plotly.express as px\n",
    "import plotly.io as pio\n",
    "import time\n",
    "\n",
    "# Set default renderer for Plotly\n",
    "pio.renderers.default = 'iframe'\n",
    "\n",
    "print(\"\\nWe have now imported those libraries so we can:\\n\",\n",
    "      \"- Use pandas for data manipulation\\n\",\n",
    "      \"- Create interactive plots with plotly and statistical data visualization\\n\")"
   ]
  },
  {
   "cell_type": "code",
   "execution_count": 4,
   "id": "4da9945a",
   "metadata": {},
   "outputs": [
    {
     "name": "stdout",
     "output_type": "stream",
     "text": [
      "\n",
      "We've defined a function to load datasets from URLs and used it to load our Netflix content and viewership datasets.\n",
      "\n"
     ]
    }
   ],
   "source": [
    "def load_dataset(url):\n",
    "    try:\n",
    "        return pd.read_csv(url)\n",
    "    except Exception as e:\n",
    "        print(f'Error loading dataset: {e}')\n",
    "        return None\n",
    "\n",
    "netflix_df = load_dataset('https://gitlab.crio.do/public_content/da_ds_artifacts/-/raw/master/netflix-dataset.csv')\n",
    "viewership_df = load_dataset('https://gitlab.crio.do/public_content/da_ds_artifacts/-/raw/master/Viewership_Data_with_Demographics.csv')\n",
    "\n",
    "print(\"\\nWe've defined a function to load datasets from URLs and used it to load our Netflix content and viewership datasets.\\n\")"
   ]
  },
  {
   "cell_type": "code",
   "execution_count": 5,
   "id": "832b7279",
   "metadata": {},
   "outputs": [
    {
     "data": {
      "text/html": [
       "<div>\n",
       "<style scoped>\n",
       "    .dataframe tbody tr th:only-of-type {\n",
       "        vertical-align: middle;\n",
       "    }\n",
       "\n",
       "    .dataframe tbody tr th {\n",
       "        vertical-align: top;\n",
       "    }\n",
       "\n",
       "    .dataframe thead th {\n",
       "        text-align: right;\n",
       "    }\n",
       "</style>\n",
       "<table border=\"1\" class=\"dataframe\">\n",
       "  <thead>\n",
       "    <tr style=\"text-align: right;\">\n",
       "      <th></th>\n",
       "      <th>show_id</th>\n",
       "      <th>title</th>\n",
       "      <th>type</th>\n",
       "      <th>description</th>\n",
       "      <th>release_year</th>\n",
       "      <th>age_certification</th>\n",
       "      <th>runtime</th>\n",
       "      <th>genres</th>\n",
       "      <th>production_countries</th>\n",
       "      <th>seasons</th>\n",
       "      <th>...</th>\n",
       "      <th>imdb_votes</th>\n",
       "      <th>tmdb_popularity</th>\n",
       "      <th>tmdb_score</th>\n",
       "      <th>viewership_count</th>\n",
       "      <th>viewer_age_group</th>\n",
       "      <th>average_watch_duration</th>\n",
       "      <th>watch_completion_rate</th>\n",
       "      <th>viewer_region</th>\n",
       "      <th>viewer_gender</th>\n",
       "      <th>device_type</th>\n",
       "    </tr>\n",
       "  </thead>\n",
       "  <tbody>\n",
       "    <tr>\n",
       "      <th>0</th>\n",
       "      <td>ts300399</td>\n",
       "      <td>Five Came Back: The Reference Films</td>\n",
       "      <td>SHOW</td>\n",
       "      <td>This collection includes 12 World War II-era p...</td>\n",
       "      <td>1945</td>\n",
       "      <td>TV-MA</td>\n",
       "      <td>48</td>\n",
       "      <td>['documentation']</td>\n",
       "      <td>['US']</td>\n",
       "      <td>1.0</td>\n",
       "      <td>...</td>\n",
       "      <td>NaN</td>\n",
       "      <td>0.600</td>\n",
       "      <td>NaN</td>\n",
       "      <td>131958</td>\n",
       "      <td>Kids (0-12)</td>\n",
       "      <td>21.45</td>\n",
       "      <td>97.69</td>\n",
       "      <td>Asia</td>\n",
       "      <td>Male</td>\n",
       "      <td>Mobile</td>\n",
       "    </tr>\n",
       "    <tr>\n",
       "      <th>1</th>\n",
       "      <td>tm84618</td>\n",
       "      <td>Taxi Driver</td>\n",
       "      <td>MOVIE</td>\n",
       "      <td>A mentally unstable Vietnam War veteran works ...</td>\n",
       "      <td>1976</td>\n",
       "      <td>R</td>\n",
       "      <td>113</td>\n",
       "      <td>['crime', 'drama']</td>\n",
       "      <td>['US']</td>\n",
       "      <td>NaN</td>\n",
       "      <td>...</td>\n",
       "      <td>795222.0</td>\n",
       "      <td>27.612</td>\n",
       "      <td>8.2</td>\n",
       "      <td>156867</td>\n",
       "      <td>Kids (0-12)</td>\n",
       "      <td>28.09</td>\n",
       "      <td>61.52</td>\n",
       "      <td>South America</td>\n",
       "      <td>Male</td>\n",
       "      <td>Desktop</td>\n",
       "    </tr>\n",
       "    <tr>\n",
       "      <th>2</th>\n",
       "      <td>tm127384</td>\n",
       "      <td>Monty Python and the Holy Grail</td>\n",
       "      <td>MOVIE</td>\n",
       "      <td>King Arthur, accompanied by his squire, recrui...</td>\n",
       "      <td>1975</td>\n",
       "      <td>PG</td>\n",
       "      <td>91</td>\n",
       "      <td>['comedy', 'fantasy']</td>\n",
       "      <td>['GB']</td>\n",
       "      <td>NaN</td>\n",
       "      <td>...</td>\n",
       "      <td>530877.0</td>\n",
       "      <td>18.216</td>\n",
       "      <td>7.8</td>\n",
       "      <td>141932</td>\n",
       "      <td>Teens (13-19)</td>\n",
       "      <td>77.72</td>\n",
       "      <td>62.65</td>\n",
       "      <td>North America</td>\n",
       "      <td>Non-Binary</td>\n",
       "      <td>Mobile</td>\n",
       "    </tr>\n",
       "    <tr>\n",
       "      <th>3</th>\n",
       "      <td>tm70993</td>\n",
       "      <td>Life of Brian</td>\n",
       "      <td>MOVIE</td>\n",
       "      <td>Brian Cohen is an average young Jewish man, bu...</td>\n",
       "      <td>1979</td>\n",
       "      <td>R</td>\n",
       "      <td>94</td>\n",
       "      <td>['comedy']</td>\n",
       "      <td>['GB']</td>\n",
       "      <td>NaN</td>\n",
       "      <td>...</td>\n",
       "      <td>392419.0</td>\n",
       "      <td>17.505</td>\n",
       "      <td>7.8</td>\n",
       "      <td>375838</td>\n",
       "      <td>Teens (13-19)</td>\n",
       "      <td>113.62</td>\n",
       "      <td>96.99</td>\n",
       "      <td>Asia</td>\n",
       "      <td>Male</td>\n",
       "      <td>Tablet</td>\n",
       "    </tr>\n",
       "    <tr>\n",
       "      <th>4</th>\n",
       "      <td>tm190788</td>\n",
       "      <td>The Exorcist</td>\n",
       "      <td>MOVIE</td>\n",
       "      <td>12-year-old Regan MacNeil begins to adapt an e...</td>\n",
       "      <td>1973</td>\n",
       "      <td>R</td>\n",
       "      <td>133</td>\n",
       "      <td>['horror']</td>\n",
       "      <td>['US']</td>\n",
       "      <td>NaN</td>\n",
       "      <td>...</td>\n",
       "      <td>391942.0</td>\n",
       "      <td>95.337</td>\n",
       "      <td>7.7</td>\n",
       "      <td>269178</td>\n",
       "      <td>Adults (36-50)</td>\n",
       "      <td>106.67</td>\n",
       "      <td>69.80</td>\n",
       "      <td>Asia</td>\n",
       "      <td>Female</td>\n",
       "      <td>Desktop</td>\n",
       "    </tr>\n",
       "  </tbody>\n",
       "</table>\n",
       "<p>5 rows × 22 columns</p>\n",
       "</div>"
      ],
      "text/plain": [
       "    show_id                                title   type  \\\n",
       "0  ts300399  Five Came Back: The Reference Films   SHOW   \n",
       "1   tm84618                          Taxi Driver  MOVIE   \n",
       "2  tm127384      Monty Python and the Holy Grail  MOVIE   \n",
       "3   tm70993                        Life of Brian  MOVIE   \n",
       "4  tm190788                         The Exorcist  MOVIE   \n",
       "\n",
       "                                         description  release_year  \\\n",
       "0  This collection includes 12 World War II-era p...          1945   \n",
       "1  A mentally unstable Vietnam War veteran works ...          1976   \n",
       "2  King Arthur, accompanied by his squire, recrui...          1975   \n",
       "3  Brian Cohen is an average young Jewish man, bu...          1979   \n",
       "4  12-year-old Regan MacNeil begins to adapt an e...          1973   \n",
       "\n",
       "  age_certification  runtime                 genres production_countries  \\\n",
       "0             TV-MA       48      ['documentation']               ['US']   \n",
       "1                 R      113     ['crime', 'drama']               ['US']   \n",
       "2                PG       91  ['comedy', 'fantasy']               ['GB']   \n",
       "3                 R       94             ['comedy']               ['GB']   \n",
       "4                 R      133             ['horror']               ['US']   \n",
       "\n",
       "   seasons  ... imdb_votes  tmdb_popularity  tmdb_score  viewership_count  \\\n",
       "0      1.0  ...        NaN            0.600         NaN            131958   \n",
       "1      NaN  ...   795222.0           27.612         8.2            156867   \n",
       "2      NaN  ...   530877.0           18.216         7.8            141932   \n",
       "3      NaN  ...   392419.0           17.505         7.8            375838   \n",
       "4      NaN  ...   391942.0           95.337         7.7            269178   \n",
       "\n",
       "   viewer_age_group  average_watch_duration watch_completion_rate  \\\n",
       "0       Kids (0-12)                   21.45                 97.69   \n",
       "1       Kids (0-12)                   28.09                 61.52   \n",
       "2     Teens (13-19)                   77.72                 62.65   \n",
       "3     Teens (13-19)                  113.62                 96.99   \n",
       "4    Adults (36-50)                  106.67                 69.80   \n",
       "\n",
       "   viewer_region  viewer_gender device_type  \n",
       "0           Asia           Male      Mobile  \n",
       "1  South America           Male     Desktop  \n",
       "2  North America     Non-Binary      Mobile  \n",
       "3           Asia           Male      Tablet  \n",
       "4           Asia         Female     Desktop  \n",
       "\n",
       "[5 rows x 22 columns]"
      ]
     },
     "metadata": {},
     "output_type": "display_data"
    },
    {
     "name": "stdout",
     "output_type": "stream",
     "text": [
      "We've successfully merged the Netflix content and viewership datasets on the 'show_id' column. This combined dataset will be used for our analysis.\n"
     ]
    }
   ],
   "source": [
    "if netflix_df is not None and viewership_df is not None:\n",
    "    for df in [netflix_df, viewership_df]:\n",
    "        if 'id' in df.columns:\n",
    "            df.rename(columns={'id': 'show_id'}, inplace=True)\n",
    "    \n",
    "    data = pd.merge(netflix_df, viewership_df, on='show_id', how='inner')\n",
    "    display(data.head())\n",
    "    print(\"We've successfully merged the Netflix content and viewership datasets on the 'show_id' column. This combined dataset will be used for our analysis.\")\n",
    "else:\n",
    "    print(\"Failed to load or merge datasets\")"
   ]
  },
  {
   "cell_type": "markdown",
   "id": "8f28b86a",
   "metadata": {},
   "source": [
    "## 3. Movies vs Shows Analysis\n",
    "\n",
    "### 3.1 Movies/Shows Count Over the Years\n",
    "We'll visualize how the production of Movies and TV Shows has evolved over time, grouped into 5-year intervals for better trend visibility."
   ]
  },
  {
   "cell_type": "code",
   "execution_count": 6,
   "id": "55b93147",
   "metadata": {},
   "outputs": [
    {
     "name": "stdout",
     "output_type": "stream",
     "text": [
      "\n",
      "We've defined a function to create a stacked bar chart showing the count of Movies vs TV Shows over 5-year intervals.\n",
      "\n"
     ]
    }
   ],
   "source": [
    "def plot_movies_vs_shows(data):\n",
    "    data['year_interval'] = (data['release_year'] // 5) * 5\n",
    "    movies_vs_shows_interval = data.groupby(['year_interval', 'type']).size().unstack(fill_value=0)\n",
    "    movies_vs_shows_long = movies_vs_shows_interval.reset_index().melt(id_vars='year_interval', \n",
    "                                                                       var_name='Type', \n",
    "                                                                       value_name='Count')\n",
    "    \n",
    "    fig = px.bar(movies_vs_shows_long, \n",
    "                 x='year_interval', \n",
    "                 y='Count', \n",
    "                 color='Type', \n",
    "                 title='Movies vs TV Shows Over 5-Year Intervals',\n",
    "                 labels={'year_interval': '5-Year Intervals', 'Count': 'Number of Titles Produced'},\n",
    "                 text='Count',\n",
    "                 height=600)\n",
    "    \n",
    "    fig.update_layout(barmode='stack', xaxis_title='5-Year Intervals', yaxis_title='Number of Titles', \n",
    "                      legend_title='Type')\n",
    "    fig.show()\n",
    "    \n",
    "print(\"\\nWe've defined a function to create a stacked bar chart showing the count of Movies vs TV Shows over 5-year intervals.\\n\")"
   ]
  },
  {
   "cell_type": "code",
   "execution_count": 7,
   "id": "499c4e83",
   "metadata": {},
   "outputs": [
    {
     "data": {
      "text/html": [
       "<iframe\n",
       "    scrolling=\"no\"\n",
       "    width=\"100%\"\n",
       "    height=\"620\"\n",
       "    src=\"iframe_figures/figure_7.html\"\n",
       "    frameborder=\"0\"\n",
       "    allowfullscreen\n",
       "></iframe>\n"
      ]
     },
     "metadata": {},
     "output_type": "display_data"
    },
    {
     "name": "stdout",
     "output_type": "stream",
     "text": [
      "This chart visualizes the trend in Netflix's content production, showing how the balance between Movies and TV Shows has changed over time.\n"
     ]
    }
   ],
   "source": [
    "plot_movies_vs_shows(data)\n",
    "\n",
    "print(\"This chart visualizes the trend in Netflix's content production, showing how the balance between Movies and TV Shows has changed over time.\")"
   ]
  },
  {
   "cell_type": "markdown",
   "id": "8cb761c8",
   "metadata": {},
   "source": [
    "### 3.2 Insight\n",
    "The stacked bar chart above illustrates Netflix's content production focus over time, showing whether they've been emphasizing Movies or TV Shows in different periods. This can help us understand Netflix's content strategy evolution."
   ]
  },
  {
   "cell_type": "markdown",
   "id": "22bfe572",
   "metadata": {},
   "source": [
    "## 4. Show Popularity Analysis\n",
    "\n",
    "### 4.1 What Kind of Shows are Becoming Popular\n",
    "We'll analyze which genres of TV Shows are growing in popularity across the years, helping to identify trending content categories."
   ]
  },
  {
   "cell_type": "code",
   "execution_count": 9,
   "id": "599052c0",
   "metadata": {},
   "outputs": [
    {
     "name": "stdout",
     "output_type": "stream",
     "text": [
      "\n",
      "We've defined a function to create a stacked bar chart showing the popularity of different TV show genres over 5-year intervals.\n",
      "\n"
     ]
    }
   ],
   "source": [
    "def plot_genre_popularity(data):\n",
    "    if 'genres' not in data.columns:\n",
    "        print(\"No 'genres' column found. Please check the dataset.\")\n",
    "        return\n",
    "    \n",
    "    tv_shows = data[data['type'] == 'SHOW'].copy()\n",
    "    tv_shows['genres'] = tv_shows['genres'].apply(lambda x: eval(x) if isinstance(x, str) else x)\n",
    "    tv_shows_exploded = tv_shows.explode('genres')\n",
    "    tv_shows_exploded['year_interval'] = (tv_shows_exploded['release_year'] // 5) * 5\n",
    "    \n",
    "    genres_popularity = tv_shows_exploded.groupby(['year_interval', 'genres']).size().unstack(fill_value=0)\n",
    "    genres_popularity_long = genres_popularity.reset_index().melt(id_vars='year_interval', var_name='Genre', value_name='Count')\n",
    "    \n",
    "    fig = px.bar(genres_popularity_long, \n",
    "                 x='year_interval', \n",
    "                 y='Count', \n",
    "                 color='Genre', \n",
    "                 title='Popularity of TV Show Genres Over 5-Year Intervals',\n",
    "                 labels={'year_interval': '5-Year Intervals', 'Count': 'Number of Shows'},\n",
    "                 text='Count',\n",
    "                 height=600)\n",
    "    \n",
    "    fig.update_layout(barmode='stack', xaxis_title='5-Year Intervals', yaxis_title='Number of Shows', \n",
    "                      legend_title='Genres', \n",
    "                      legend=dict(x=1, y=1, bgcolor='rgba(255,255,255,0.5)', bordercolor='rgba(0,0,0,0.1)'))\n",
    "    fig.show()\n",
    "    \n",
    "print(\"\\nWe've defined a function to create a stacked bar chart showing the popularity of different TV show genres over 5-year intervals.\\n\")"
   ]
  },
  {
   "cell_type": "code",
   "execution_count": 10,
   "id": "c87fc392",
   "metadata": {},
   "outputs": [
    {
     "data": {
      "text/html": [
       "<iframe\n",
       "    scrolling=\"no\"\n",
       "    width=\"100%\"\n",
       "    height=\"620\"\n",
       "    src=\"iframe_figures/figure_10.html\"\n",
       "    frameborder=\"0\"\n",
       "    allowfullscreen\n",
       "></iframe>\n"
      ]
     },
     "metadata": {},
     "output_type": "display_data"
    },
    {
     "name": "stdout",
     "output_type": "stream",
     "text": [
      "This chart visualizes the changing popularity of different TV show genres over time, helping identify trends in content preferences.\n"
     ]
    }
   ],
   "source": [
    "plot_genre_popularity(data)\n",
    "\n",
    "print(\"This chart visualizes the changing popularity of different TV show genres over time, helping identify trends in content preferences.\")"
   ]
  },
  {
   "cell_type": "markdown",
   "id": "829e6632",
   "metadata": {},
   "source": [
    "### 4.2 Insight\n",
    "The stacked bar chart reveals which genres of TV shows are becoming more popular, which remain constant, and which are declining over time. This information can guide content creation strategies and help predict future trends."
   ]
  },
  {
   "cell_type": "markdown",
   "id": "70f20827",
   "metadata": {},
   "source": [
    "## 5. Genre Distribution Analysis\n",
    "\n",
    "### 5.1 Genre Distribution by Region\n",
    "We'll explore how genre preferences vary across different regions, providing insights into regional content preferences."
   ]
  },
  {
   "cell_type": "code",
   "execution_count": 12,
   "id": "cb0d55be",
   "metadata": {},
   "outputs": [
    {
     "name": "stdout",
     "output_type": "stream",
     "text": [
      "\n",
      "We've defined a function to create pie charts showing the distribution of genres for each region in our dataset.\n",
      "\n"
     ]
    }
   ],
   "source": [
    "def plot_genre_distribution_by_region(data):\n",
    "    if 'genres' not in data.columns or 'viewer_region' not in data.columns:\n",
    "        print(\"The 'genres' or 'viewer_region' column is not found in the dataset.\")\n",
    "        return\n",
    "    \n",
    "    # Ensure genres column is properly formatted as lists\n",
    "    data['genres'] = data['genres'].apply(lambda x: eval(x) if isinstance(x, str) else x)\n",
    "    data_exploded = data.explode('genres')\n",
    "    \n",
    "    # Group by region and genre\n",
    "    genre_region_distribution = data_exploded.groupby(['viewer_region', 'genres']).size().unstack(fill_value=0)\n",
    "    \n",
    "    for region in genre_region_distribution.index:\n",
    "        genre_counts = genre_region_distribution.loc[region].reset_index()\n",
    "        genre_counts.columns = ['Genre', 'Count']\n",
    "        \n",
    "        # Check if there are genres to plot\n",
    "        if genre_counts['Count'].sum() == 0:\n",
    "            print(f\"No genre data available for {region}. Skipping plot.\")\n",
    "            continue\n",
    "        \n",
    "        # Create pie chart\n",
    "        fig = px.pie(genre_counts, \n",
    "                     values='Count', \n",
    "                     names='Genre', \n",
    "                     title=f'Genre Distribution in {region}', \n",
    "                     hover_data=['Count'], \n",
    "                     labels={'Count':'Number of Titles'})\n",
    "        \n",
    "        fig.show()\n",
    "        time.sleep(1)  # add delay to ensure rendering\n",
    "        \n",
    "print(\"\\nWe've defined a function to create pie charts showing the distribution of genres for each region in our dataset.\\n\")"
   ]
  },
  {
   "cell_type": "code",
   "execution_count": 13,
   "id": "5e646121",
   "metadata": {},
   "outputs": [
    {
     "data": {
      "text/html": [
       "<iframe\n",
       "    scrolling=\"no\"\n",
       "    width=\"100%\"\n",
       "    height=\"545px\"\n",
       "    src=\"iframe_figures/figure_13.html\"\n",
       "    frameborder=\"0\"\n",
       "    allowfullscreen\n",
       "></iframe>\n"
      ]
     },
     "metadata": {},
     "output_type": "display_data"
    },
    {
     "data": {
      "text/html": [
       "<iframe\n",
       "    scrolling=\"no\"\n",
       "    width=\"100%\"\n",
       "    height=\"545px\"\n",
       "    src=\"iframe_figures/figure_13.html\"\n",
       "    frameborder=\"0\"\n",
       "    allowfullscreen\n",
       "></iframe>\n"
      ]
     },
     "metadata": {},
     "output_type": "display_data"
    },
    {
     "data": {
      "text/html": [
       "<iframe\n",
       "    scrolling=\"no\"\n",
       "    width=\"100%\"\n",
       "    height=\"545px\"\n",
       "    src=\"iframe_figures/figure_13.html\"\n",
       "    frameborder=\"0\"\n",
       "    allowfullscreen\n",
       "></iframe>\n"
      ]
     },
     "metadata": {},
     "output_type": "display_data"
    },
    {
     "data": {
      "text/html": [
       "<iframe\n",
       "    scrolling=\"no\"\n",
       "    width=\"100%\"\n",
       "    height=\"545px\"\n",
       "    src=\"iframe_figures/figure_13.html\"\n",
       "    frameborder=\"0\"\n",
       "    allowfullscreen\n",
       "></iframe>\n"
      ]
     },
     "metadata": {},
     "output_type": "display_data"
    },
    {
     "data": {
      "text/html": [
       "<iframe\n",
       "    scrolling=\"no\"\n",
       "    width=\"100%\"\n",
       "    height=\"545px\"\n",
       "    src=\"iframe_figures/figure_13.html\"\n",
       "    frameborder=\"0\"\n",
       "    allowfullscreen\n",
       "></iframe>\n"
      ]
     },
     "metadata": {},
     "output_type": "display_data"
    },
    {
     "name": "stdout",
     "output_type": "stream",
     "text": [
      "These pie charts visualize the genre distribution for each region, allowing us to compare content preferences across different geographical areas.\n"
     ]
    }
   ],
   "source": [
    "plot_genre_distribution_by_region(data)\n",
    "\n",
    "print(\"These pie charts visualize the genre distribution for each region, allowing us to compare content preferences across different geographical areas.\")"
   ]
  },
  {
   "cell_type": "markdown",
   "id": "c86bd7ba",
   "metadata": {},
   "source": [
    "### 5.2 Insight\n",
    "These pie charts illustrate the genre distribution across different regions, highlighting potential regional preferences in content consumption. This information can be valuable for targeted content creation and marketing strategies, allowing Netflix to tailor its offerings to specific regional tastes."
   ]
  },
  {
   "cell_type": "markdown",
   "id": "937f041f",
   "metadata": {},
   "source": [
    "## 6. Viewership Analysis\n",
    "\n",
    "### 6.1 Viewership Based on Demographics\n",
    "We'll visualize viewership patterns based on age groups and regions to understand how different demographic segments consume Netflix content."
   ]
  },
  {
   "cell_type": "code",
   "execution_count": 14,
   "id": "64578385",
   "metadata": {},
   "outputs": [
    {
     "name": "stdout",
     "output_type": "stream",
     "text": [
      "\n",
      "We've defined a function to create a stacked bar chart showing viewership patterns across different age groups and regions.\n",
      "\n"
     ]
    }
   ],
   "source": [
    "def plot_viewership_by_age_and_region(data):\n",
    "    age_region_viewership = data.groupby(['viewer_age_group', 'viewer_region'])['viewership_count'].sum().unstack()\n",
    "    age_region_viewership_long = age_region_viewership.reset_index().melt(id_vars='viewer_age_group', \n",
    "                                                                          var_name='Region', \n",
    "                                                                          value_name='Viewership')\n",
    "    \n",
    "    fig = px.bar(age_region_viewership_long, \n",
    "                 x='viewer_age_group', \n",
    "                 y='Viewership', \n",
    "                 color='Region', \n",
    "                 title='Stacked Viewership by Age Group and Region',\n",
    "                 labels={'viewer_age_group': 'Age Group', 'Viewership': 'Total Viewership Count'},\n",
    "                 hover_data={'Viewership': ':.0f'})\n",
    "    fig.show()\n",
    "    \n",
    "print(\"\\nWe've defined a function to create a stacked bar chart showing viewership patterns across different age groups and regions.\\n\")"
   ]
  },
  {
   "cell_type": "code",
   "execution_count": 15,
   "id": "9030f090",
   "metadata": {},
   "outputs": [
    {
     "data": {
      "text/html": [
       "<iframe\n",
       "    scrolling=\"no\"\n",
       "    width=\"100%\"\n",
       "    height=\"545px\"\n",
       "    src=\"iframe_figures/figure_15.html\"\n",
       "    frameborder=\"0\"\n",
       "    allowfullscreen\n",
       "></iframe>\n"
      ]
     },
     "metadata": {},
     "output_type": "display_data"
    },
    {
     "name": "stdout",
     "output_type": "stream",
     "text": [
      "This stacked bar chart visualizes the viewership distribution across different age groups and regions, allowing us to identify demographic trends in content consumption.\n"
     ]
    }
   ],
   "source": [
    "plot_viewership_by_age_and_region(data)\n",
    "\n",
    "print(\"This stacked bar chart visualizes the viewership distribution across different age groups and regions, allowing us to identify demographic trends in content consumption.\")"
   ]
  },
  {
   "cell_type": "markdown",
   "id": "4775417b",
   "metadata": {},
   "source": [
    "### 6.2 Insight\n",
    "This stacked bar chart provides insights into the content preferences of different age groups across various regions. It can help in tailoring content and marketing strategies for specific demographic segments, potentially leading to more targeted content recommendations and acquisition strategies."
   ]
  },
  {
   "cell_type": "markdown",
   "id": "97c0f75c",
   "metadata": {},
   "source": [
    "## 7. Conclusion\n",
    "Based on the analysis conducted, we can draw several conclusions:\n",
    "\n",
    "1. Content Production Trends: We've observed how Netflix's focus on Movies vs TV Shows has evolved over time, which reflects their content strategy shifts.\n",
    "2. Genre Popularity: We've identified which genres are gaining popularity, remaining stable, or declining, providing insights for future content creation.\n",
    "3. Regional Preferences: We've uncovered how genre preferences vary across different regions, which can inform region-specific content strategies.\n",
    "4. Demographic Insights: We've gained understanding of viewership patterns across age groups and regions, allowing for more targeted content and marketing approaches.\n",
    "\n",
    "These insights can be used to optimize content creation strategies, inform marketing efforts, and enhance the overall viewer experience on the Netflix platform. By leveraging this data, Netflix can make more informed decisions about what types of content to produce or acquire, how to market different shows or movies to specific demographics, and how to tailor their content library for different regions."
   ]
  },
  {
   "cell_type": "code",
   "execution_count": null,
   "id": "b7d39201",
   "metadata": {},
   "outputs": [],
   "source": []
  }
 ],
 "metadata": {
  "kernelspec": {
   "display_name": "Python 3 (ipykernel)",
   "language": "python",
   "name": "python3"
  },
  "language_info": {
   "codemirror_mode": {
    "name": "ipython",
    "version": 3
   },
   "file_extension": ".py",
   "mimetype": "text/x-python",
   "name": "python",
   "nbconvert_exporter": "python",
   "pygments_lexer": "ipython3",
   "version": "3.10.6"
  }
 },
 "nbformat": 4,
 "nbformat_minor": 5
}
